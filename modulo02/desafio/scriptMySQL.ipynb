{
 "cells": [
  {
   "attachments": {},
   "cell_type": "markdown",
   "metadata": {},
   "source": [
    "# Bibliotecas"
   ]
  },
  {
   "cell_type": "code",
   "execution_count": null,
   "metadata": {},
   "outputs": [],
   "source": [
    "import pandas as pd\n",
    "import sqlalchemy\n",
    "from sqlalchemy import text"
   ]
  },
  {
   "attachments": {},
   "cell_type": "markdown",
   "metadata": {},
   "source": [
    "# Conexão com MySQL\n",
    "\n",
    "Informações de conexão do banco de dados"
   ]
  },
  {
   "cell_type": "code",
   "execution_count": null,
   "metadata": {},
   "outputs": [],
   "source": [
    "user = 'root'\n",
    "password = 'mysqlpwd'\n",
    "host = 'localhost'\n",
    "database = 'desafioModulo02'\n",
    "\n",
    "string_conexao = f'mysql://{user}:{password}@{host}/{database}'\n",
    "string_conexao"
   ]
  },
  {
   "attachments": {},
   "cell_type": "markdown",
   "metadata": {},
   "source": [
    "Cria o objeto de conexão"
   ]
  },
  {
   "cell_type": "code",
   "execution_count": null,
   "metadata": {},
   "outputs": [],
   "source": [
    "engine = sqlalchemy.create_engine(string_conexao)\n",
    "conn = engine.connect()"
   ]
  },
  {
   "attachments": {},
   "cell_type": "markdown",
   "metadata": {},
   "source": [
    "# Início da lógica do programa\n",
    "Faz a leitura do dataset de jogadores"
   ]
  },
  {
   "cell_type": "code",
   "execution_count": null,
   "metadata": {},
   "outputs": [],
   "source": [
    "df = pd.read_csv('data\\\\dados_jogadores.csv', sep=';', encoding='latin-1')"
   ]
  },
  {
   "cell_type": "code",
   "execution_count": null,
   "metadata": {},
   "outputs": [],
   "source": [
    "# Verifica se existem colunas vazias\n",
    "df.info()"
   ]
  },
  {
   "cell_type": "code",
   "execution_count": null,
   "metadata": {},
   "outputs": [],
   "source": [
    "# Verifica quais são as colunas que possuem valores vazios e respectivas quantidades\n",
    "df.isna().sum()"
   ]
  },
  {
   "attachments": {},
   "cell_type": "markdown",
   "metadata": {},
   "source": [
    "De acordo com as informações acima, existem 3 colunas com informações vazias:<br>\n",
    "<b>num_vitorias:</b> 8 ocorrências<br>\n",
    "<b>num_derrotas:</b> 5 ocorrências<br>\n",
    "<b>total_partidas:</b> 8 ocorrências<br>"
   ]
  },
  {
   "attachments": {},
   "cell_type": "markdown",
   "metadata": {},
   "source": [
    "Qual foi a lógica para consertar essas informações vazias:<br>\n",
    "<b>num_vitorias:</b> Pegar o total de partidas e subtrair o número de derrotas;<br>\n",
    "<b>num_derrotas:</b> Pegar o total de partidas e subtrair o número de vitórias;<br>\n",
    "<b>total_partidas:</b> Somar a quantidade de vitórias com a quantidade de derrotas;"
   ]
  },
  {
   "cell_type": "code",
   "execution_count": null,
   "metadata": {},
   "outputs": [],
   "source": [
    "# Ajustando o dataset com os campos vazios\n",
    "df.num_vitorias.fillna(df['total_partidas'] - df['num_derrotas'], inplace=True)\n",
    "df.num_derrotas.fillna(df['total_partidas'] - df['num_vitorias'], inplace=True)\n",
    "df.total_partidas.fillna(df['num_vitorias'] + df['num_derrotas'], inplace=True)\n"
   ]
  },
  {
   "cell_type": "code",
   "execution_count": null,
   "metadata": {},
   "outputs": [],
   "source": [
    "# Verifica novamente se existem informações vazias (todas as colunas devem indicar 0 (zer0))\n",
    "df.isna().sum()"
   ]
  },
  {
   "attachments": {},
   "cell_type": "markdown",
   "metadata": {},
   "source": [
    "Teste para o tratamento de data"
   ]
  },
  {
   "cell_type": "code",
   "execution_count": null,
   "metadata": {},
   "outputs": [],
   "source": [
    "data = '03/09/1990'\n",
    "data_tratada = str(data).split('/')[2] + '/' + str(data).split('/')[1] + '/' + str(data).split('/')[0]\n",
    "data_tratada"
   ]
  },
  {
   "attachments": {},
   "cell_type": "markdown",
   "metadata": {},
   "source": [
    "Aplica o tratamento de data para todo o dataframe criando uma nova coluna chamada 'data_nascimento_tratada'"
   ]
  },
  {
   "cell_type": "code",
   "execution_count": null,
   "metadata": {},
   "outputs": [],
   "source": [
    "df['data_nascimento_tratada'] = df['data_nascimento'].str.split('/').str[2] + '/' + df['data_nascimento'].str.split('/').str[1] + '/' + df['data_nascimento'].str.split('/').str[0]"
   ]
  },
  {
   "cell_type": "code",
   "execution_count": null,
   "metadata": {},
   "outputs": [],
   "source": [
    "# Checagem numa amostra para verificar se a data tratada está correta\n",
    "df[:10]"
   ]
  },
  {
   "attachments": {},
   "cell_type": "markdown",
   "metadata": {},
   "source": [
    "Lista de países"
   ]
  },
  {
   "cell_type": "code",
   "execution_count": null,
   "metadata": {},
   "outputs": [],
   "source": [
    "lst_pais = list(df.pais.unique())\n",
    "lst_pais"
   ]
  },
  {
   "attachments": {},
   "cell_type": "markdown",
   "metadata": {},
   "source": [
    "Lista de jogos"
   ]
  },
  {
   "cell_type": "code",
   "execution_count": null,
   "metadata": {},
   "outputs": [],
   "source": [
    "lst_jogo = list(df.jogo.unique())\n",
    "lst_jogo"
   ]
  },
  {
   "attachments": {},
   "cell_type": "markdown",
   "metadata": {},
   "source": [
    "Insere os países no banco de dados"
   ]
  },
  {
   "cell_type": "code",
   "execution_count": null,
   "metadata": {},
   "outputs": [],
   "source": [
    "for pais in lst_pais:\n",
    "    try:\n",
    "        query = f\"insert into pais (nome_pais) values ('{pais}')\"\n",
    "        conn.execute(text(query))\n",
    "        print(f\"Registro inserido com sucesso: {pais}.\")\n",
    "        \n",
    "    except Exception as e:\n",
    "        print(f'Não foi possível inserir o registro {pais}. O erro encontrado foi: {e}.')"
   ]
  },
  {
   "attachments": {},
   "cell_type": "markdown",
   "metadata": {},
   "source": [
    "Insere os jogos no banco de dados"
   ]
  },
  {
   "cell_type": "code",
   "execution_count": null,
   "metadata": {},
   "outputs": [],
   "source": [
    "for jogo in lst_jogo:\n",
    "    try:\n",
    "        query = f\"insert into jogo (nome_jogo) values ('{jogo}')\"\n",
    "        conn.execute(text(query))\n",
    "        print(f\"Registro inserido com sucesso: {jogo}.\")\n",
    "        \n",
    "    except Exception as e:\n",
    "        print(f'Não foi possível inserir o registro {jogo}. O erro encontrado foi: {e}.')"
   ]
  },
  {
   "attachments": {},
   "cell_type": "markdown",
   "metadata": {},
   "source": [
    "Insere o dataframe numa tabela stage para tratar dentro do banco de dados"
   ]
  },
  {
   "cell_type": "code",
   "execution_count": null,
   "metadata": {},
   "outputs": [],
   "source": [
    "df.to_sql('stg_jogador', con=conn, schema='desafioModulo02', if_exists='replace', index=False)"
   ]
  },
  {
   "cell_type": "code",
   "execution_count": null,
   "metadata": {},
   "outputs": [],
   "source": [
    "# Confirma todas as transações realizadas no banco de dados\n",
    "conn.commit()"
   ]
  }
 ],
 "metadata": {
  "kernelspec": {
   "display_name": "venv",
   "language": "python",
   "name": "python3"
  },
  "language_info": {
   "codemirror_mode": {
    "name": "ipython",
    "version": 3
   },
   "file_extension": ".py",
   "mimetype": "text/x-python",
   "name": "python",
   "nbconvert_exporter": "python",
   "pygments_lexer": "ipython3",
   "version": "3.11.3"
  },
  "orig_nbformat": 4
 },
 "nbformat": 4,
 "nbformat_minor": 2
}
